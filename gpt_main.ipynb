{
 "cells": [
  {
   "cell_type": "code",
   "execution_count": 2,
   "metadata": {},
   "outputs": [],
   "source": [
    "import pandas as pd\n",
    "from openai import OpenAI\n",
    "import json\n",
    "\n",
    "client = OpenAI()"
   ]
  },
  {
   "cell_type": "code",
   "execution_count": 25,
   "metadata": {},
   "outputs": [
    {
     "data": {
      "text/html": [
       "<div>\n",
       "<style scoped>\n",
       "    .dataframe tbody tr th:only-of-type {\n",
       "        vertical-align: middle;\n",
       "    }\n",
       "\n",
       "    .dataframe tbody tr th {\n",
       "        vertical-align: top;\n",
       "    }\n",
       "\n",
       "    .dataframe thead th {\n",
       "        text-align: right;\n",
       "    }\n",
       "</style>\n",
       "<table border=\"1\" class=\"dataframe\">\n",
       "  <thead>\n",
       "    <tr style=\"text-align: right;\">\n",
       "      <th></th>\n",
       "      <th>prompt</th>\n",
       "      <th>completion</th>\n",
       "    </tr>\n",
       "  </thead>\n",
       "  <tbody>\n",
       "    <tr>\n",
       "      <th>0</th>\n",
       "      <td>What is a 'customized integrated framework' in...</td>\n",
       "      <td>In the context of Audit and Assurance policy a...</td>\n",
       "    </tr>\n",
       "    <tr>\n",
       "      <th>1</th>\n",
       "      <td>What are some of the elements that audit and a...</td>\n",
       "      <td>Audit and assurance policies and procedures sh...</td>\n",
       "    </tr>\n",
       "    <tr>\n",
       "      <th>2</th>\n",
       "      <td>Why is it important to review and update the a...</td>\n",
       "      <td>It's important to review and update the audit ...</td>\n",
       "    </tr>\n",
       "    <tr>\n",
       "      <th>3</th>\n",
       "      <td>What is the role of an audit report in the aud...</td>\n",
       "      <td>An audit report plays a crucial role in the au...</td>\n",
       "    </tr>\n",
       "    <tr>\n",
       "      <th>4</th>\n",
       "      <td>What is the purpose of follow-up activities in...</td>\n",
       "      <td>Follow-up activities are designed to monitor t...</td>\n",
       "    </tr>\n",
       "  </tbody>\n",
       "</table>\n",
       "</div>"
      ],
      "text/plain": [
       "                                              prompt  \\\n",
       "0  What is a 'customized integrated framework' in...   \n",
       "1  What are some of the elements that audit and a...   \n",
       "2  Why is it important to review and update the a...   \n",
       "3  What is the role of an audit report in the aud...   \n",
       "4  What is the purpose of follow-up activities in...   \n",
       "\n",
       "                                          completion  \n",
       "0  In the context of Audit and Assurance policy a...  \n",
       "1  Audit and assurance policies and procedures sh...  \n",
       "2  It's important to review and update the audit ...  \n",
       "3  An audit report plays a crucial role in the au...  \n",
       "4  Follow-up activities are designed to monitor t...  "
      ]
     },
     "execution_count": 25,
     "metadata": {},
     "output_type": "execute_result"
    }
   ],
   "source": [
    "df = pd.read_xml(\"data/dataset.xml\")\n",
    "df['prompt'] = df['input']\n",
    "df['completion'] = df['output']\n",
    "del df['index']\n",
    "del df['input']\n",
    "del df['output']\n",
    "\n",
    "df.head()"
   ]
  },
  {
   "cell_type": "code",
   "execution_count": 26,
   "metadata": {},
   "outputs": [],
   "source": [
    "default_prompt = \"{\\\"messages\\\": [{\\\"role\\\": \\\"system\\\", \\\"content\\\": \\\"You are a factual chatbot that is assisting the user with cloud security.\\\"}\"\n",
    "default_prompt += \", {\\\"role\\\": \\\"user\\\", \\\"content\\\": \\\"\"\n",
    "jsonl_file = \"\"\n",
    "for idx, row in df.iterrows():\n",
    "    jsonl_file += default_prompt + row['prompt'] + \"\\\"}, {\\\"role\\\": \\\"assistant\\\", \\\"content\\\": \\\"\" + row['completion'] + \"\\\"}]}\\n\"\n",
    "with open(\"./data/dataset.jsonl\", \"w\") as file:\n",
    "    file.write(jsonl_file)"
   ]
  },
  {
   "cell_type": "code",
   "execution_count": 27,
   "metadata": {},
   "outputs": [
    {
     "data": {
      "text/plain": [
       "FileObject(id='file-R98nY1IAiVbZgjwiCMftS52G', bytes=583483, created_at=1718332989, filename='dataset.jsonl', object='file', purpose='fine-tune', status='processed', status_details=None)"
      ]
     },
     "execution_count": 27,
     "metadata": {},
     "output_type": "execute_result"
    }
   ],
   "source": [
    "client.files.create(\n",
    "  \n",
    "  file=open(\"./data/dataset.jsonl\", \"rb\"),\n",
    "  purpose=\"fine-tune\"\n",
    ")"
   ]
  },
  {
   "cell_type": "code",
   "execution_count": 29,
   "metadata": {},
   "outputs": [
    {
     "data": {
      "text/plain": [
       "FineTuningJob(id='ftjob-w1IOs1lN93R5BTWaBwBJjWrd', created_at=1718333000, error=Error(code=None, message=None, param=None), fine_tuned_model=None, finished_at=None, hyperparameters=Hyperparameters(n_epochs='auto', batch_size='auto', learning_rate_multiplier='auto'), model='gpt-3.5-turbo-0125', object='fine_tuning.job', organization_id='org-YoXe4bdQHnK5IkrEUKFJYxXt', result_files=[], seed=1316398548, status='validating_files', trained_tokens=None, training_file='file-R98nY1IAiVbZgjwiCMftS52G', validation_file=None, estimated_finish=None, integrations=[], user_provided_suffix=None)"
      ]
     },
     "execution_count": 29,
     "metadata": {},
     "output_type": "execute_result"
    }
   ],
   "source": [
    "client.fine_tuning.jobs.create(\n",
    "  training_file=\"file-R98nY1IAiVbZgjwiCMftS52G\", \n",
    "  model=\"gpt-3.5-turbo-0125\"\n",
    ")"
   ]
  },
  {
   "cell_type": "code",
   "execution_count": 34,
   "metadata": {},
   "outputs": [
    {
     "data": {
      "text/plain": [
       "FineTuningJob(id='ftjob-w1IOs1lN93R5BTWaBwBJjWrd', created_at=1718333000, error=Error(code=None, message=None, param=None), fine_tuned_model='ft:gpt-3.5-turbo-0125:personal::9ZrzIuPt', finished_at=1718336035, hyperparameters=Hyperparameters(n_epochs=3, batch_size=2, learning_rate_multiplier=2), model='gpt-3.5-turbo-0125', object='fine_tuning.job', organization_id='org-YoXe4bdQHnK5IkrEUKFJYxXt', result_files=['file-OGpKkRglNfJez7bHlQv3hqV3'], seed=1316398548, status='succeeded', trained_tokens=284766, training_file='file-R98nY1IAiVbZgjwiCMftS52G', validation_file=None, estimated_finish=None, integrations=[], user_provided_suffix=None)"
      ]
     },
     "execution_count": 34,
     "metadata": {},
     "output_type": "execute_result"
    }
   ],
   "source": [
    "client.fine_tuning.jobs.retrieve(\"ftjob-w1IOs1lN93R5BTWaBwBJjWrd\")"
   ]
  },
  {
   "cell_type": "code",
   "execution_count": 18,
   "metadata": {},
   "outputs": [],
   "source": [
    "completion = client.chat.completions.create(\n",
    "  model=\"ft:gpt-3.5-turbo-0125:personal::9ZrzIuPt\",\n",
    "  messages=[\n",
    "    {\"role\": \"system\", \"content\": \"Hello!\"},\n",
    "    {\"role\": \"user\", \"content\": \"What does the high-risk environment refer to in network architecture documentation?\"},\n",
    "    {\"role\": \"system\", \"content\": \"A high-risk environment refers to an IT environment where there is a greater probability and potential for security incidents. This could be due to various factors such as the type of data the system handles, the number of users accessing the system, the use of public networks, or the potential for physical access to sensitive locations.\"},\n",
    "    {\"role\": \"user\", \"content\": \"What do you mean by \\'the use of public networks\\'\"}\n",
    "  ]\n",
    ")"
   ]
  },
  {
   "cell_type": "code",
   "execution_count": 19,
   "metadata": {},
   "outputs": [
    {
     "data": {
      "text/plain": [
       "\"The use of public networks implies that some elements of the system's network may rely on external, uncontrolled networks for connectivity. This can increase the exposure to potential security threats.\""
      ]
     },
     "execution_count": 19,
     "metadata": {},
     "output_type": "execute_result"
    }
   ],
   "source": [
    "completion.choices[0].message.content"
   ]
  }
 ],
 "metadata": {
  "kernelspec": {
   "display_name": "Python 3",
   "language": "python",
   "name": "python3"
  },
  "language_info": {
   "codemirror_mode": {
    "name": "ipython",
    "version": 3
   },
   "file_extension": ".py",
   "mimetype": "text/x-python",
   "name": "python",
   "nbconvert_exporter": "python",
   "pygments_lexer": "ipython3",
   "version": "3.12.2"
  }
 },
 "nbformat": 4,
 "nbformat_minor": 2
}
